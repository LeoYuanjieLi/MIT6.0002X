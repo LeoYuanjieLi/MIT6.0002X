{
 "cells": [
  {
   "cell_type": "markdown",
   "metadata": {},
   "source": [
    "# Simulation Overview\n",
    "\n",
    "iRobot is a company (started by MIT alumni and faculty) that sells the Roomba vacuuming robot (watch one of the product videos to see these robots in action). Roomba robots move around the floor, cleaning the area they pass over.\n",
    "\n",
    "In this problem set, you will code a simulation to compare how much time a group of Roomba-like robots will take to clean the floor of a room using two different strategies.\n",
    "\n",
    "The following simplified model of a single robot moving in a square 5x5 room should give you some intuition about the system we are simulating.\n",
    "\n",
    "The robot starts out at some random position in the room, and with a random direction of motion. The illustrations below show the robot's position (indicated by a black dot) as well as its direction (indicated by the direction of the red arrowhead)."
   ]
  },
  {
   "cell_type": "markdown",
   "metadata": {},
   "source": [
    "<table>\n",
    "<tbody>\n",
    "<tr>\n",
    "<td width=\"33%\" valign=\"top\"><a href=\"//prod-edxapp.edx-cdn.org/assets/courseware/v1/a9599c894201ed96d8cd6d1afd778a62/asset-v1:MITx+6.00.2x+3T2017+type@asset+block/files_ps07_files_screen1.png\" target=\"_blank\"> <img src=\"//prod-edxapp.edx-cdn.org/assets/courseware/v1/a9599c894201ed96d8cd6d1afd778a62/asset-v1:MITx+6.00.2x+3T2017+type@asset+block/files_ps07_files_screen1.png\" title=\"Problem Set 7 - Example Screen 1\" height=\"190\" width=\"190\" alt=\"\" class=\"alignnone size-full wp-image-821\"> </a> <br> <strong>Time <em>t</em> = 0</strong>\n",
    "<p>The robot starts at the position (2.1, 2.2) with an angle of 205 degrees (measured clockwise from \"north\"). The tile that it is on is now clean.</p>\n",
    "</td>\n",
    "<td width=\"33%\" valign=\"top\"><a href=\"//prod-edxapp.edx-cdn.org/assets/courseware/v1/178f80c0f5724973720aba89faa741a3/asset-v1:MITx+6.00.2x+3T2017+type@asset+block/files_ps07_files_screen2.png\" target=\"_blank\"> <img src=\"//prod-edxapp.edx-cdn.org/assets/courseware/v1/178f80c0f5724973720aba89faa741a3/asset-v1:MITx+6.00.2x+3T2017+type@asset+block/files_ps07_files_screen2.png\" title=\"Problem Set 7 - Example Screen 2\" height=\"190\" width=\"190\" alt=\"\" class=\"alignnone size-full wp-image-822\"> </a> <br> <strong><em>t</em> = 1</strong>\n",
    "<p>The robot has moved 1 unit in the direction it was facing, to the position (1.7, 1.3), cleaning another tile.</p>\n",
    "</td>\n",
    "<td width=\"33%\" valign=\"top\"><a href=\"/asset-v1:MITx+6.00.2x+3T2017+type@asset+block/files_screen3.png\" target=\"_blank\"> <img src=\"//prod-edxapp.edx-cdn.org/assets/courseware/v1/debc0f78a5d1191088c6972e39a4b265/asset-v1:MITx+6.00.2x+3T2017+type@asset+block/files_ps07_files_screen3.png\" title=\"Problem Set 7 - Example Screen 3\" height=\"190\" width=\"190\" alt=\"\" class=\"alignnone size-full wp-image-823\"> </a> <br> <strong><em>t</em> = 2</strong>\n",
    "<p>The robot has moved 1 unit in the same direction (205 degrees from north), to the position (1.2, 0.4), cleaning another tile.</p>\n",
    "</td>\n",
    "</tr>\n",
    "<tr>\n",
    "<td width=\"33%\" valign=\"top\"><a href=\"//prod-edxapp.edx-cdn.org/assets/courseware/v1/300d6494c0f7f83c84efafbc44484973/asset-v1:MITx+6.00.2x+3T2017+type@asset+block/files_ps07_files_screen4.png\" target=\"_blank\"> <img src=\"//prod-edxapp.edx-cdn.org/assets/courseware/v1/300d6494c0f7f83c84efafbc44484973/asset-v1:MITx+6.00.2x+3T2017+type@asset+block/files_ps07_files_screen4.png\" title=\"Problem Set 7 - Example Screen 4\" height=\"190\" width=\"190\" alt=\"\" class=\"alignnone size-full wp-image-824\"> </a> <br> <strong><em>t</em> = 3</strong>\n",
    "<p>The robot could not have moved another unit in the same direction without hitting the wall, so instead it turns to face in a new, random direction, 287 degrees.</p>\n",
    "</td>\n",
    "<td width=\"33%\" valign=\"top\"><a href=\"//prod-edxapp.edx-cdn.org/assets/courseware/v1/1a51168c1262621d2a46fbd59f26845b/asset-v1:MITx+6.00.2x+3T2017+type@asset+block/files_ps07_files_screen5.png\" target=\"_blank\"> <img src=\"//prod-edxapp.edx-cdn.org/assets/courseware/v1/1a51168c1262621d2a46fbd59f26845b/asset-v1:MITx+6.00.2x+3T2017+type@asset+block/files_ps07_files_screen5.png\" title=\"Problem Set 7 - Example Screen 5\" height=\"190\" width=\"190\" alt=\"\" class=\"alignnone size-full wp-image-825\"> </a> <br> <strong><em>t</em> = 4</strong>\n",
    "<p>The robot moves along its new direction to the position (0.3, 0.7), cleaning another tile.</p>\n",
    "</td>\n",
    "<td width=\"33%\">\n",
    "<p></p>\n",
    "</td>\n",
    "</tr>\n",
    "</tbody>\n",
    "</table>"
   ]
  },
  {
   "cell_type": "markdown",
   "metadata": {},
   "source": [
    "<ul>\n",
    "<li><strong>Multiple robots</strong>\n",
    "<p>In general, there are <em>N</em> &gt; 0 robots in the room, where <em>N</em> is given. For simplicity, assume that robots are points and can pass through each other or occupy the same point without interfering.</p>\n",
    "</li>\n",
    "<li><strong>The room</strong>\n",
    "<p>The room is rectangular with some integer width <em>w</em> and height <em>h</em>, which are given. Initially the entire floor is dirty. A robot cannot pass through the walls of the room. A robot may not move to a point outside the room.</p>\n",
    "</li>\n",
    "<li><strong>Tiles</strong>\n",
    "<p>You will need to keep track of which parts of the floor have been cleaned by the robot(s). We will divide the area of the room into 1x1 tiles (there will be <em>w * h</em> such tiles). When a robot's location is anywhere in a tile, we will consider the entire tile to be cleaned (as in the pictures above). By convention, we will refer to the tiles using ordered pairs of integers: (0, 0), (0, 1), ..., (0, <em>h</em>-1), (1, 0), (1, 1), ..., (<em>w</em>-1, <em>h</em>-1).</p>\n",
    "</li>\n",
    "<li><strong>Robot motion rules</strong>\n",
    "<ul>\n",
    "<li>\n",
    "<p>Each robot has a position inside the room. We'll represent the position using coordinates (<em>x</em>, <em>y</em>) which are floats satisfying 0 ≤ <em>x</em> &lt; <em>w</em> and 0 ≤ <em>y</em> &lt; <em>h</em>. In our program we'll use instances of the <code>Position</code> class to store these coordinates.</p>\n",
    "</li>\n",
    "<li>\n",
    "<p>A robot has a direction of motion. We'll represent the direction using an integer <em>d</em> satisfying 0 ≤ <em>d</em> &lt; 360, which gives an angle in degrees.</p>\n",
    "</li>\n",
    "<li>\n",
    "<p>All robots move at the same speed <em>s</em>, a float, which is given and is constant throughout the simulation. Every time-step, a robot moves in its direction of motion by <em>s</em> units.</p>\n",
    "</li>\n",
    "<li>\n",
    "<p>If a robot detects that it will hit the wall within the time-step, that time step is <strong>instead</strong> spent picking a new direction at random. The robot will attempt to move in that direction on the next time step, until it reaches another wall.</p>\n",
    "</li>\n",
    "</ul>\n",
    "</li>\n",
    "<li><strong>Termination</strong>\n",
    "<p>The simulation ends when a specified fraction of the tiles in the room have been cleaned.</p>\n",
    "</li>\n",
    "</ul>"
   ]
  },
  {
   "cell_type": "markdown",
   "metadata": {},
   "source": [
    "<div class=\"vert vert-0\" data-id=\"block-v1:MITx+6.00.2x+3T2017+type@html+block@2c782c4693e54818bf0a004531e7ed84\">\n",
    "    <div class=\"xblock xblock-student_view xblock-student_view-html xmodule_display xmodule_HtmlModule xblock-initialized\" data-runtime-class=\"LmsRuntime\" data-init=\"XBlockToXModuleShim\" data-block-type=\"html\" data-request-token=\"c857dcf6bcf711e7823f0aadd12eb5d0\" data-runtime-version=\"1\" data-usage-id=\"block-v1:MITx+6.00.2x+3T2017+type@html+block@2c782c4693e54818bf0a004531e7ed84\" data-type=\"HTMLModule\" data-course-id=\"course-v1:MITx+6.00.2x+3T2017\">\n",
    "  \n",
    "  \n",
    "\n",
    "\n",
    "\n",
    "\n",
    "\n",
    "\n",
    "<div id=\"edx-notes-wrapper-188778920801272714825215845142596004821\" class=\"edx-notes-wrapper\"><span class=\"edx-notes-focus-grabber\" tabindex=\"-1\"></span><div class=\"annotator-wrapper\">\n",
    "    <div class=\"edx-notes-wrapper-content\"><h2>Introduction</h2>\n",
    "<p>In this problem set you will practice designing a simulation and implementing a program that uses classes.</p>\n",
    "<p>As with previous problem sets, please don't be discouraged by the apparent length of this assignment. There is quite a bit to read and understand, but most of the problems do not involve writing much code.</p>\n",
    "<h2>Getting Started</h2>\n",
    "<p><strong>Download and save</strong></p>\n",
    "<p><a href=\"//prod-edxapp.edx-cdn.org/assets/courseware/v1/5ac75dd1b33a9b97132c0b1b24e65324/asset-v1:MITx+6.00.2x+3T2017+type@asset+block/pset2.zip\" target=\"_blank\">pset2.zip</a>: A zip file of all the files you need, including:</p>\n",
    "<ul>\n",
    "<li>\n",
    "<p><code>ps2.py</code>, a skeleton of the solution.</p>\n",
    "</li>\n",
    "<li>\n",
    "<p><code>ps2_visualize.py</code>, code to help you visualize the robot's movement (an optional - but cool! - part of this problem set).</p>\n",
    "</li>\n",
    "<li>\n",
    "<p><code>ps2_verify_movement35.pyc</code>, precompiled module for Python 3.5 that assists with the visualization code. In <span style=\"font-family: 'courier new', courier;\">ps2.py</span> you will uncomment this out if you have Python 3.5.</p>\n",
    "</li>\n",
    "<li>\n",
    "<p><code>ps2_verify_movement36.pyc</code>, precompiled module for Python 3.6 that assists with the visualization code. In&nbsp;<span style=\"font-family: 'courier new', courier;\">ps2.py</span>&nbsp;you will uncomment this out if you have Python 3.6.</p>\n",
    "</li>\n",
    "</ul>\n",
    "\n",
    "\n",
    "</div>\n",
    "\n",
    "  </div>"
   ]
  },
  {
   "cell_type": "markdown",
   "metadata": {},
   "source": [
    "# Problem 1: RectangularRoom Class\n",
    "\n",
    "You will need to design two classes to keep track of which parts of the room have been cleaned as well as the position and direction of each robot.\n",
    "\n",
    "In ps2.py, we've provided skeletons for the following two classes, which you will fill in in Problem 1:\n",
    "\n",
    "RectangularRoom: Represents the space to be cleaned and keeps track of which tiles have been cleaned.\n",
    "Position: We've also provided a complete implementation of this class. It stores the x- and y-coordinates of a robot in a room.\n",
    "Read ps2.py carefully before starting, so that you understand the provided code and its capabilities.\n",
    "\n",
    "Problem 1\n",
    "\n",
    "In this problem you will implement the RectangularRoom class. For this class, decide what fields you will use and decide how the following operations are to be performed:\n",
    "\n",
    "Initializing the object\n",
    "Marking an appropriate tile as cleaned when a robot moves to a given position (casting floats to ints - and/or the function math.floor - may be useful to you here)\n",
    "* Determining if a given tile has been cleaned\n",
    "* Determining how many tiles there are in the room\n",
    "* Determining how many cleaned tiles there are in the room\n",
    "* Getting a random position in the room\n",
    "* Determining if a given position is in the room\n",
    "* Complete the RectangularRoom class by implementing its methods in ps2.py.\n",
    "\n",
    "Although this problem has many parts, it should not take long once you have chosen how you wish to represent your data. For reasonable representations, a majority of the methods will require only a couple of lines of code.)\n",
    "\n",
    "Hint: During debugging, you might want to use random.seed(0) so that your results are reproducible.\n",
    "\n",
    "Enter your code for RectangularRoom below."
   ]
  },
  {
   "cell_type": "code",
   "execution_count": 4,
   "metadata": {
    "collapsed": false
   },
   "outputs": [],
   "source": [
    "import random\n",
    "\n",
    "# === Provided class Position\n",
    "class Position(object):\n",
    "    \"\"\"\n",
    "    A Position represents a location in a two-dimensional room.\n",
    "    \"\"\"\n",
    "    def __init__(self, x, y):\n",
    "        \"\"\"\n",
    "        Initializes a position with coordinates (x, y).\n",
    "        \"\"\"\n",
    "        self.x = x\n",
    "        self.y = y\n",
    "\n",
    "    def getX(self):\n",
    "        return self.x\n",
    "\n",
    "    def getY(self):\n",
    "        return self.y\n",
    "\n",
    "    def getNewPosition(self, angle, speed):\n",
    "        \"\"\"\n",
    "        Computes and returns the new Position after a single clock-tick has\n",
    "        passed, with this object as the current position, and with the\n",
    "        specified angle and speed.\n",
    "\n",
    "        Does NOT test whether the returned position fits inside the room.\n",
    "\n",
    "        angle: number representing angle in degrees, 0 <= angle < 360\n",
    "        speed: positive float representing speed\n",
    "\n",
    "        Returns: a Position object representing the new position.\n",
    "        \"\"\"\n",
    "        old_x, old_y = self.getX(), self.getY()\n",
    "        angle = float(angle)\n",
    "        # Compute the change in position\n",
    "        delta_y = speed * math.cos(math.radians(angle))\n",
    "        delta_x = speed * math.sin(math.radians(angle))\n",
    "        # Add that to the existing position\n",
    "        new_x = old_x + delta_x\n",
    "        new_y = old_y + delta_y\n",
    "        return Position(new_x, new_y)\n",
    "\n",
    "    def __str__(self):\n",
    "        return \"(%0.2f, %0.2f)\" % (self.x, self.y)\n",
    "\n",
    "\n",
    "# === Problem 1\n",
    "class RectangularRoom(object):\n",
    "    \"\"\"\n",
    "    A RectangularRoom represents a rectangular region containing clean or dirty\n",
    "    tiles.\n",
    "\n",
    "    A room has a width and a height and contains (width * height) tiles. At any\n",
    "    particular time, each of these tiles is either clean or dirty.\n",
    "    \"\"\"\n",
    "    def __init__(self, width, height):\n",
    "        \"\"\"\n",
    "        Initializes a rectangular room with the specified width and height.\n",
    "\n",
    "        Initially, no tiles in the room have been cleaned.\n",
    "\n",
    "        width: an integer > 0\n",
    "        height: an integer > 0\n",
    "        cleanPos: list of tuples representing the position that been cleaned\n",
    "        \"\"\"\n",
    "\n",
    "        self.width = width\n",
    "        self.height = height\n",
    "        self.cleanPos = []\n",
    "\n",
    "    def cleanTileAtPosition(self, pos):\n",
    "        \"\"\"\n",
    "        Mark the tile under the position POS as cleaned.\n",
    "\n",
    "        Assumes that POS represents a valid position inside this room.\n",
    "\n",
    "        pos: a Position\n",
    "        \"\"\"\n",
    "        \n",
    "        x, y = int(pos.getX()), int(pos.getY())\n",
    "        if (x,y) not in self.cleanPos:\n",
    "            self.cleanPos.append((x,y))\n",
    "\n",
    "    def isTileCleaned(self, m, n):\n",
    "        \"\"\"\n",
    "        Return True if the tile (m, n) has been cleaned.\n",
    "\n",
    "        Assumes that (m, n) represents a valid tile inside the room.\n",
    "\n",
    "        m: an integer\n",
    "        n: an integer\n",
    "        returns: True if (m, n) is cleaned, False otherwise\n",
    "        \"\"\"\n",
    "        if (m,n) in self.cleanPos:\n",
    "            return True\n",
    "        else:\n",
    "            return False\n",
    "\n",
    "    def getNumTiles(self):\n",
    "        \"\"\"\n",
    "        Return the total number of tiles in the room.\n",
    "\n",
    "        returns: an integer\n",
    "        \"\"\"\n",
    "        return self.width * self.height\n",
    "\n",
    "    def getNumCleanedTiles(self):\n",
    "        \"\"\"\n",
    "        Return the total number of clean tiles in the room.\n",
    "\n",
    "        returns: an integer\n",
    "        \"\"\"\n",
    "        return len(self.cleanPos)\n",
    "\n",
    "    def getRandomPosition(self):\n",
    "        \"\"\"\n",
    "        Return a random position inside the room.\n",
    "\n",
    "        returns: a Position object.\n",
    "        \"\"\"\n",
    "        x = random.randint(0, self.width - 1)\n",
    "        y = random.randint(0, self.height - 1)\n",
    "        return Position(x,y)\n",
    "\n",
    "    def isPositionInRoom(self, pos):\n",
    "        \"\"\"\n",
    "        Return True if pos is inside the room.\n",
    "\n",
    "        pos: a Position object.\n",
    "        returns: True if pos is in the room, False otherwise.\n",
    "        \"\"\"\n",
    "        x, y = pos.getX(), pos.getY()\n",
    "        if x < self.width and x >= 0 and y < self.height and y >= 0:\n",
    "            return True\n",
    "\n",
    "        return False"
   ]
  },
  {
   "cell_type": "code",
   "execution_count": 5,
   "metadata": {
    "collapsed": false
   },
   "outputs": [
    {
     "data": {
      "text/plain": [
       "10"
      ]
     },
     "execution_count": 5,
     "metadata": {},
     "output_type": "execute_result"
    }
   ],
   "source": [
    "#debug problem 1\n",
    "RoomA = RectangularRoom(10,7)\n",
    "RoomA.width"
   ]
  },
  {
   "cell_type": "code",
   "execution_count": 6,
   "metadata": {
    "collapsed": false
   },
   "outputs": [],
   "source": [
    "RoomA.cleanTileAtPosition(Position(2.3,3.4))"
   ]
  },
  {
   "cell_type": "code",
   "execution_count": 7,
   "metadata": {
    "collapsed": false
   },
   "outputs": [
    {
     "data": {
      "text/plain": [
       "True"
      ]
     },
     "execution_count": 7,
     "metadata": {},
     "output_type": "execute_result"
    }
   ],
   "source": [
    "RoomA.isTileCleaned(2,3)"
   ]
  },
  {
   "cell_type": "code",
   "execution_count": 8,
   "metadata": {
    "collapsed": false
   },
   "outputs": [
    {
     "data": {
      "text/plain": [
       "False"
      ]
     },
     "execution_count": 8,
     "metadata": {},
     "output_type": "execute_result"
    }
   ],
   "source": [
    "RoomA.isPositionInRoom(Position(12,12))"
   ]
  },
  {
   "cell_type": "code",
   "execution_count": 9,
   "metadata": {
    "collapsed": false
   },
   "outputs": [
    {
     "data": {
      "text/plain": [
       "False"
      ]
     },
     "execution_count": 9,
     "metadata": {},
     "output_type": "execute_result"
    }
   ],
   "source": [
    "RoomA.isPositionInRoom(Position(10,7))"
   ]
  },
  {
   "cell_type": "code",
   "execution_count": 10,
   "metadata": {
    "collapsed": false
   },
   "outputs": [
    {
     "data": {
      "text/plain": [
       "<__main__.Position at 0x104864400>"
      ]
     },
     "execution_count": 10,
     "metadata": {},
     "output_type": "execute_result"
    }
   ],
   "source": [
    "random.seed(0)\n",
    "RoomA.getRandomPosition()"
   ]
  },
  {
   "cell_type": "code",
   "execution_count": 11,
   "metadata": {
    "collapsed": false
   },
   "outputs": [
    {
     "data": {
      "text/plain": [
       "<__main__.Position at 0x1048642e8>"
      ]
     },
     "execution_count": 11,
     "metadata": {},
     "output_type": "execute_result"
    }
   ],
   "source": [
    "RoomA.getRandomPosition()"
   ]
  },
  {
   "cell_type": "code",
   "execution_count": 12,
   "metadata": {
    "collapsed": false
   },
   "outputs": [
    {
     "data": {
      "text/plain": [
       "1"
      ]
     },
     "execution_count": 12,
     "metadata": {},
     "output_type": "execute_result"
    }
   ],
   "source": [
    "RoomA.getNumCleanedTiles()"
   ]
  },
  {
   "cell_type": "markdown",
   "metadata": {},
   "source": [
    "# Problem 2: Robot Class\n",
    "\n",
    "In ps2.py we provided you with the Robot class, which stores the position and direction of a robot. For this class, decide what fields you will use and decide how the following operations are to be performed:\n",
    "\n",
    "* Initializing the object\n",
    "* Accessing the robot's position\n",
    "* Accessing the robot's direction\n",
    "* Setting the robot's position\n",
    "* Setting the robot's direction\n",
    "\n",
    "Complete the Robot class by implementing its methods in ps2.py.\n",
    "\n",
    "Note: When a Robot is initialized, it should clean the first tile it is initialized on. Generally the model these Robots will follow is that after a robot lands on a given tile, we will mark the entire tile as clean. This might not make sense if you're thinking about really large tiles, but as we make the size of the tiles smaller and smaller, this does actually become a pretty good approximation.\n",
    "\n",
    "Although this problem has many parts, it should not take long once you have chosen how you wish to represent your data. For reasonable representations, a majority of the methods will require only a couple of lines of code.)\n",
    "\n",
    "Note: The Robot class is an abstract class, which means that we will never make an instance of it. Read up on the Python docs on abstract classes at this link and if you want more examples on abstract classes, follow this link.\n",
    "\n",
    "In the final implementation of Robot, not all methods will be implemented. Not to worry -- its subclass(es) will implement the method updatePositionAndClean()\n",
    "\n",
    "Enter your code for classes RectangularRoom (from the previous problem) and Robot below."
   ]
  },
  {
   "cell_type": "code",
   "execution_count": 13,
   "metadata": {
    "collapsed": true
   },
   "outputs": [],
   "source": [
    "import random\n",
    "\n",
    "# === Problem 2\n",
    "class Robot(object):\n",
    "    \"\"\"\n",
    "    Represents a robot cleaning a particular room.\n",
    "\n",
    "    At all times the robot has a particular position and direction in the room.\n",
    "    The robot also has a fixed speed.\n",
    "\n",
    "    Subclasses of Robot should provide movement strategies by implementing\n",
    "    updatePositionAndClean(), which simulates a single time-step.\n",
    "    \"\"\"\n",
    "    def __init__(self, room, speed):\n",
    "        \"\"\"\n",
    "        Initializes a Robot with the given speed in the specified room. The\n",
    "        robot initially has a random direction and a random position in the\n",
    "        room. The robot cleans the tile it is on.\n",
    "\n",
    "        room:  a RectangularRoom object.\n",
    "        speed: a float (speed > 0)\n",
    "        \"\"\"\n",
    "        self.angle = random.randrange(0,360)\n",
    "        self.room = room\n",
    "        self.pos = room.getRandomPosition()\n",
    "        self.speed = speed\n",
    "        self.room.cleanTileAtPosition(self.pos)\n",
    "\n",
    "    def getRobotPosition(self):\n",
    "        \"\"\"\n",
    "        Return the position of the robot.\n",
    "\n",
    "        returns: a Position object giving the robot's position.\n",
    "        \"\"\"\n",
    "        return self.pos\n",
    "\n",
    "    def getRobotDirection(self):\n",
    "        \"\"\"\n",
    "        Return the direction of the robot.\n",
    "\n",
    "        returns: an integer d giving the direction of the robot as an angle in\n",
    "        degrees, 0 <= d < 360.\n",
    "        \"\"\"\n",
    "        return self.angle\n",
    "\n",
    "    def setRobotPosition(self, position):\n",
    "        \"\"\"\n",
    "        Set the position of the robot to POSITION.\n",
    "\n",
    "        position: a Position object.\n",
    "        \"\"\"\n",
    "        if self.room.isPositionInRoom(position):\n",
    "            self.pos = position\n",
    "        self.getRobotPosition()\n",
    "\n",
    "    def setRobotDirection(self, direction):\n",
    "        \"\"\"\n",
    "        Set the direction of the robot to DIRECTION.\n",
    "\n",
    "        direction: integer representing an angle in degrees\n",
    "        \"\"\"\n",
    "        self.angle = direction\n",
    "\n",
    "    def updatePositionAndClean(self):\n",
    "        \"\"\"\n",
    "        Simulate the passage of a single time-step.\n",
    "\n",
    "        Move the robot to a new position and mark the tile it is on as having\n",
    "        been cleaned.\n",
    "        \"\"\"\n",
    "        raise NotImplementedError"
   ]
  },
  {
   "cell_type": "markdown",
   "metadata": {},
   "source": [
    "# Problem 3: StandardRobot Class\n",
    "\n",
    "Each robot must also have some code that tells it how to move about a room, which will go in a method called updatePositionAndClean.\n",
    "\n",
    "Ordinarily we would consider putting all the robot's methods in a single class. However, later in this problem set we'll consider robots with alternate movement strategies, to be implemented as different classes with the same interface. These classes will have a different implementation of updatePositionAndClean but are for the most part the same as the original robots. Therefore, we'd like to use inheritance to reduce the amount of duplicated code.\n",
    "\n",
    "We have already refactored the robot code for you into two classes: the Robot class you completed in Problem 2 (which contains general robot code), and a StandardRobot class that inherits from it (which contains its own movement strategy).\n",
    "\n",
    "Complete the updatePositionAndClean method of StandardRobot to simulate the motion of the robot after a single time-step (as described on the Simulation Overview page).\n",
    "\n",
    "class StandardRobot(Robot):\n",
    "    \"\"\"\n",
    "    A StandardRobot is a Robot with the standard movement strategy.\n",
    "\n",
    "    At each time-step, a StandardRobot attempts to move in its current direction; when\n",
    "    it hits a wall, it chooses a new direction randomly.\n",
    "    \"\"\"\n",
    "    def updatePositionAndClean(self):\n",
    "        \"\"\"\n",
    "        Simulate the passage of a single time-step.\n",
    "\n",
    "        Move the robot to a new position and mark the tile it is on as having\n",
    "        been cleaned.\n",
    "        \"\"\"\n",
    "We have provided the getNewPosition method of Position, which you may find helpful:\n",
    "\n",
    "class Position(object):\n",
    "\n",
    "    def getNewPosition(self, angle, speed):\n",
    "        \"\"\"\n",
    "        Computes and returns the new Position after a single clock-tick has\n",
    "        passed, with this object as the current position, and with the\n",
    "        specified angle and speed.\n",
    "\n",
    "        Does NOT test whether the returned position fits inside the room.\n",
    "\n",
    "        angle: number representing angle in degrees, 0 <= angle < 360\n",
    "        speed: positive float representing speed\n",
    "\n",
    "        Returns: a Position object representing the new position.\n",
    "        \"\"\"\n",
    "Note: You can pass in an integer or a float for the angle parameter.\n",
    "\n",
    "Before moving on to Problem 4, check that your implementation of StandardRobot works by uncommenting the following line under your implementation of StandardRobot. Make sure that as your robot moves around the room, the tiles it traverses switch colors from gray to white. It should take about a minute for it to clean all the tiles.\n",
    "\n",
    "testRobotMovement(StandardRobot, RectangularRoom)\n",
    "\n",
    "Enter your code for classes Robot (from the previous problem) and StandardRobot below."
   ]
  },
  {
   "cell_type": "code",
   "execution_count": 14,
   "metadata": {
    "collapsed": true
   },
   "outputs": [],
   "source": [
    "class StandardRobot(Robot):\n",
    "    \"\"\"\n",
    "    A StandardRobot is a Robot with the standard movement strategy.\n",
    "\n",
    "    At each time-step, a StandardRobot attempts to move in its current direction; when\n",
    "    it hits a wall, it chooses a new direction randomly.\n",
    "    \"\"\"\n",
    "    def updatePositionAndClean(self):\n",
    "        \"\"\"\n",
    "        Simulate the passage of a single time-step.\n",
    "\n",
    "        Move the robot to a new position and mark the tile it is on as having\n",
    "        been cleaned.\n",
    "        \"\"\"\n",
    "        tmp = self.pos.getNewPosition(self.angle, self.speed)\n",
    "        while not self.room.isPositionInRoom(tmp):\n",
    "            self.angle = random.randrange(0,360)\n",
    "            tmp = self.pos.getNewPosition(self.angle, self.speed)\n",
    "\n",
    "        self.pos = tmp\n",
    "        self.room.cleanTileAtPosition(self.pos)\n",
    "        self.angle = random.randrange(0,360)\n",
    "        "
   ]
  },
  {
   "cell_type": "markdown",
   "metadata": {},
   "source": [
    "# Problem 4: Running the Simulation\n",
    "\n",
    "In this problem you will write code that runs a complete robot simulation.\n",
    "\n",
    "Recall that in each trial, the objective is to determine how many time-steps are on average needed before a specified fraction of the room has been cleaned. Implement the following function:\n",
    "\n",
    "def runSimulation(num_robots, speed, width, height, min_coverage, num_trials,\n",
    "                  robot_type):\n",
    "    \"\"\"\n",
    "    Runs NUM_TRIALS trials of the simulation and returns the mean number of\n",
    "    time-steps needed to clean the fraction MIN_COVERAGE of the room.\n",
    "\n",
    "    The simulation is run with NUM_ROBOTS robots of type ROBOT_TYPE, each with\n",
    "    speed SPEED, in a room of dimensions WIDTH x HEIGHT.\n",
    "    \"\"\"\n",
    "The first six parameters should be self-explanatory. For the time being, you should pass in StandardRobot for the robot_type parameter, like so:\n",
    "\n",
    "avg = runSimulation(10, 1.0, 15, 20, 0.8, 30, StandardRobot)\n",
    "Then, in runSimulation you should use robot_type(...) instead of StandardRobot(...) whenever you wish to instantiate a robot. (This will allow us to easily adapt the simulation to run with different robot implementations, which you'll encounter in Problem 6.)\n",
    "\n",
    "Feel free to write whatever helper functions you wish.\n",
    "\n",
    "We have provided the getNewPosition method of Position, which you may find helpful:\n",
    "\n",
    "class Position(object):\n",
    "\n",
    "    def getNewPosition(self, angle, speed):\n",
    "        \"\"\"\n",
    "        Computes and returns the new Position after a single clock-tick has\n",
    "        passed, with this object as the current position, and with the\n",
    "        specified angle and speed.\n",
    "\n",
    "        Does NOT test whether the returned position fits inside the room.\n",
    "\n",
    "        angle: integer representing angle in degrees, 0 <= angle < 360\n",
    "        speed: positive float representing speed\n",
    "\n",
    "        Returns: a Position object representing the new position.\n",
    "        \"\"\"\n",
    "For your reference, here are some approximate room cleaning times. These times are with a robot speed of 1.0.\n",
    "\n",
    "* One robot takes around 150 clock ticks to completely clean a 5x5 room.\n",
    "\n",
    "* One robot takes around 190 clock ticks to clean 75% of a 10x10 room.\n",
    "\n",
    "* One robot takes around 310 clock ticks to clean 90% of a 10x10 room.\n",
    "\n",
    "* One robot takes around 3322 clock ticks to completely clean a 20x20 room.\n",
    "\n",
    "* Three robots take around 1105 clock ticks to completely clean a 20x20 room.\n",
    "\n",
    "(These are only intended as guidelines. Depending on the exact details of your implementation, you may get times slightly different from ours.)\n",
    "\n",
    "You should also check your simulation's output for speeds other than 1.0. One way to do this is to take the above test cases, change the speeds, and make sure the results are sensible.\n",
    "\n",
    "For further testing, see the next page in this problem set about the optional way to use visualization methods. Visualization will help you see what's going on in the simulation and may assist you in debugging your code.\n",
    "\n",
    "Enter your code for the definition of runSimulation below."
   ]
  },
  {
   "cell_type": "code",
   "execution_count": 24,
   "metadata": {
    "collapsed": true
   },
   "outputs": [],
   "source": [
    "def runSimulation(num_robots, speed, width, height, min_coverage, num_trials,\n",
    "                  robot_type):\n",
    "    \"\"\"\n",
    "    Runs NUM_TRIALS trials of the simulation and returns the mean number of\n",
    "    time-steps needed to clean the fraction MIN_COVERAGE of the room.\n",
    "\n",
    "    The simulation is run with NUM_ROBOTS robots of type ROBOT_TYPE, each with\n",
    "    speed SPEED, in a room of dimensions WIDTH x HEIGHT.\n",
    "\n",
    "    num_robots: an int (num_robots > 0)\n",
    "    speed: a float (speed > 0)\n",
    "    width: an int (width > 0)\n",
    "    height: an int (height > 0)\n",
    "    min_coverage: a float (0 <= min_coverage <= 1.0)\n",
    "    num_trials: an int (num_trials > 0)\n",
    "    robot_type: class of robot to be instantiated (e.g. StandardRobot or\n",
    "                RandomWalkRobot)\n",
    "    \"\"\"\n",
    "    record = []\n",
    "    for i in range(num_trials):\n",
    "        time = 0\n",
    "\n",
    "        room = RectangularRoom(width, height)\n",
    "\n",
    "        robots = [robot_type(room, speed) for j in range(num_robots)]\n",
    "        while (room.getNumCleanedTiles()/room.getNumTiles()) < min_coverage:\n",
    "            time += 1\n",
    "            for robot in robots:\n",
    "                robot.updatePositionAndClean()\n",
    "            if (room.getNumCleanedTiles()/room.getNumTiles()) >= min_coverage:\n",
    "                record.append(time)\n",
    "            else:\n",
    "                continue\n",
    "\n",
    "    return sum(record)/len(record)"
   ]
  },
  {
   "cell_type": "markdown",
   "metadata": {},
   "source": [
    "# Problem 5: RandomWalkRobot Class\n",
    "\n",
    "iRobot is testing out a new robot design. The proposed new robots differ in that they change direction randomly after every time step, rather than just when they run into walls. You have been asked to design a simulation to determine what effect, if any, this change has on room cleaning times.\n",
    "\n",
    "Write a new class RandomWalkRobot that inherits from Robot (like StandardRobot) but implements the new movement strategy. RandomWalkRobot should have the same interface as StandardRobot.\n",
    "\n",
    "Test out your new class. Perform a single trial with the StandardRobot implementation and watch the visualization to make sure it is doing the right thing. Once you are satisfied, you can call runSimulation again, passing RandomWalkRobot instead of StandardRobot.\n",
    "\n",
    "Enter your code for classes Robot and RandomWalkRobot below."
   ]
  },
  {
   "cell_type": "code",
   "execution_count": 25,
   "metadata": {
    "collapsed": true
   },
   "outputs": [],
   "source": [
    "# Enter your code for Robot and RandomWalkRobot in this box\n",
    "class Robot(object):\n",
    "    \"\"\"\n",
    "    Represents a robot cleaning a particular room.\n",
    "\n",
    "    At all times the robot has a particular position and direction in the room.\n",
    "    The robot also has a fixed speed.\n",
    "\n",
    "    Subclasses of Robot should provide movement strategies by implementing\n",
    "    updatePositionAndClean(), which simulates a single time-step.\n",
    "    \"\"\"\n",
    "    def __init__(self, room, speed):\n",
    "        \"\"\"\n",
    "        Initializes a Robot with the given speed in the specified room. The\n",
    "        robot initially has a random direction and a random position in the\n",
    "        room. The robot cleans the tile it is on.\n",
    "\n",
    "        room:  a RectangularRoom object.\n",
    "        speed: a float (speed > 0)\n",
    "        \"\"\"\n",
    "        self.angle = random.randrange(0,360)\n",
    "        self.room = room\n",
    "        self.pos = room.getRandomPosition()\n",
    "        self.speed = speed\n",
    "        self.room.cleanTileAtPosition(self.pos)\n",
    "\n",
    "    def getRobotPosition(self):\n",
    "        \"\"\"\n",
    "        Return the position of the robot.\n",
    "\n",
    "        returns: a Position object giving the robot's position.\n",
    "        \"\"\"\n",
    "        return self.pos\n",
    "\n",
    "    def getRobotDirection(self):\n",
    "        \"\"\"\n",
    "        Return the direction of the robot.\n",
    "\n",
    "        returns: an integer d giving the direction of the robot as an angle in\n",
    "        degrees, 0 <= d < 360.\n",
    "        \"\"\"\n",
    "        return self.angle\n",
    "\n",
    "    def setRobotPosition(self, position):\n",
    "        \"\"\"\n",
    "        Set the position of the robot to POSITION.\n",
    "\n",
    "        position: a Position object.\n",
    "        \"\"\"\n",
    "        if self.room.isPositionInRoom(position):\n",
    "            self.pos = position\n",
    "        self.getRobotPosition()\n",
    "\n",
    "    def setRobotDirection(self, direction):\n",
    "        \"\"\"\n",
    "        Set the direction of the robot to DIRECTION.\n",
    "\n",
    "        direction: integer representing an angle in degrees\n",
    "        \"\"\"\n",
    "        self.angle = direction\n",
    "\n",
    "    def updatePositionAndClean(self):\n",
    "        \"\"\"\n",
    "        Simulate the passage of a single time-step.\n",
    "\n",
    "        Move the robot to a new position and mark the tile it is on as having\n",
    "        been cleaned.\n",
    "        \"\"\"\n",
    "        # tmp = self.pos.getNewPosition(self.angle, self.speed)\n",
    "        # while not self.room.isPositionInRoom(tmp):\n",
    "        #     self.angle = random.randrange(0,360)\n",
    "        #     tmp = self.pos.getNewPosition(self.angle, self.speed)\n",
    "        #\n",
    "        # self.pos = tmp\n",
    "        # self.angle = random.randrange(0,360)\n",
    "        raise NotImplementedError\n",
    "        \n",
    "class RandomWalkRobot(Robot):\n",
    "    \"\"\"\n",
    "    A RandomWalkRobot is a robot with the \"random walk\" movement strategy: it\n",
    "    chooses a new direction at random at the end of each time-step.\n",
    "    \"\"\"\n",
    "    def updatePositionAndClean(self):\n",
    "        \"\"\"\n",
    "        Simulate the passage of a single time-step.\n",
    "\n",
    "        Move the robot to a new position and mark the tile it is on as having\n",
    "        been cleaned.\n",
    "        \"\"\"\n",
    "        tmp = self.pos.getNewPosition(self.angle, self.speed)\n",
    "        while not self.room.isPositionInRoom(tmp):\n",
    "            self.angle = random.randrange(0,360)\n",
    "            tmp = self.pos.getNewPosition(self.angle, self.speed)\n",
    "\n",
    "        self.pos = tmp\n",
    "        self.angle = random.randrange(0,360)\n",
    "        self.room.cleanTileAtPosition(self.pos)"
   ]
  },
  {
   "cell_type": "markdown",
   "metadata": {},
   "source": [
    "Now, you'll use your simulation to answer some questions about the robots' performance.\n",
    "\n",
    "In order to do this problem, you will be using a Python tool called PyLab. \n",
    "\n",
    "Below is an example of a plot. This plot does not use the same axes that your plots will use; it merely serves as an example of the types of images that the PyLab package produces.\n",
    "\n",
    " \n",
    "\n",
    "Note to those who did the optional visualization: For problem 6, we make calls to runSimulation() to get simulation data and plot it. However, you don't want the visualization getting in the way. If you chose to do the visualization exercise, before you get started on problem 6 (and before you submit your code in submission boxes), make sure to comment the visualization code out of runSimulation(). There should be 3 lines to comment out. If you do not comment these lines, your code will take a REALLY long time to run!!\n",
    "\n",
    "For the questions below, call the given function with the proper arguments to generate a plot using PyLab.\n",
    "\n",
    "<img src = \"https://prod-edxapp.edx-cdn.org/assets/courseware/v1/5e3b84f365c85ef9f5413b3d0d681c3c/asset-v1:MITx+6.00.2x+3T2017+type@asset+block/files_ps07_files_sampleplot-small.png\">"
   ]
  },
  {
   "cell_type": "code",
   "execution_count": 26,
   "metadata": {
    "collapsed": false
   },
   "outputs": [],
   "source": [
    "import math\n",
    "import pylab\n",
    "def showPlot1(title, x_label, y_label):\n",
    "    \"\"\"\n",
    "    What information does the plot produced by this function tell you?\n",
    "    \"\"\"\n",
    "    num_robot_range = range(1, 11)\n",
    "    times1 = []\n",
    "    times2 = []\n",
    "    for num_robots in num_robot_range:\n",
    "        print(\"Plotting\", num_robots, \"robots...\")\n",
    "        times1.append(runSimulation(num_robots, 1.0, 20, 20, 0.8, 20, StandardRobot))\n",
    "        times2.append(runSimulation(num_robots, 1.0, 20, 20, 0.8, 20, RandomWalkRobot))\n",
    "    pylab.plot(num_robot_range, times1)\n",
    "    pylab.plot(num_robot_range, times2)\n",
    "    pylab.title(title)\n",
    "    pylab.legend(('StandardRobot', 'RandomWalkRobot'))\n",
    "    pylab.xlabel(x_label)\n",
    "    pylab.ylabel(y_label)\n",
    "    pylab.show()\n",
    "\n",
    "\n",
    "def showPlot2(title, x_label, y_label):\n",
    "    \"\"\"\n",
    "    What information does the plot produced by this function tell you?\n",
    "    \"\"\"\n",
    "    aspect_ratios = []\n",
    "    times1 = []\n",
    "    times2 = []\n",
    "    for width in [10, 20, 25, 50]:\n",
    "        height = 300//width\n",
    "        print(\"Plotting cleaning time for a room of width:\", width, \"by height:\", height)\n",
    "        aspect_ratios.append(float(width) / height)\n",
    "        times1.append(runSimulation(2, 1.0, width, height, 0.8, 200, StandardRobot))\n",
    "        times2.append(runSimulation(2, 1.0, width, height, 0.8, 200, RandomWalkRobot))\n",
    "    pylab.plot(aspect_ratios, times1)\n",
    "    pylab.plot(aspect_ratios, times2)\n",
    "    pylab.title(title)\n",
    "    pylab.legend(('StandardRobot', 'RandomWalkRobot'))\n",
    "    pylab.xlabel(x_label)\n",
    "    pylab.ylabel(y_label)\n",
    "    pylab.show()"
   ]
  },
  {
   "cell_type": "code",
   "execution_count": 27,
   "metadata": {
    "collapsed": false
   },
   "outputs": [
    {
     "name": "stdout",
     "output_type": "stream",
     "text": [
      "Plotting 1 robots...\n",
      "Plotting 2 robots...\n",
      "Plotting 3 robots...\n",
      "Plotting 4 robots...\n",
      "Plotting 5 robots...\n",
      "Plotting 6 robots...\n",
      "Plotting 7 robots...\n",
      "Plotting 8 robots...\n",
      "Plotting 9 robots...\n",
      "Plotting 10 robots...\n"
     ]
    },
    {
     "data": {
      "image/png": "[encoded data removed]",
      "text/plain": [
       "<matplotlib.figure.Figure at 0x1063158d0>"
      ]
     },
     "metadata": {},
     "output_type": "display_data"
    }
   ],
   "source": [
    "showPlot1(\"Time It Takes 1- 10 Robots To Clean 80‘%’ of A Room\", \"Number of Robots\", \"Time\")"
   ]
  },
  {
   "cell_type": "code",
   "execution_count": 28,
   "metadata": {
    "collapsed": false
   },
   "outputs": [
    {
     "name": "stdout",
     "output_type": "stream",
     "text": [
      "Plotting cleaning time for a room of width: 10 by height: 30\n",
      "Plotting cleaning time for a room of width: 20 by height: 15\n",
      "Plotting cleaning time for a room of width: 25 by height: 12\n",
      "Plotting cleaning time for a room of width: 50 by height: 6\n"
     ]
    },
    {
     "data": {
      "image/png": "[encoded data removed]",
      "text/plain": [
       "<matplotlib.figure.Figure at 0x10672f940>"
      ]
     },
     "metadata": {},
     "output_type": "display_data"
    }
   ],
   "source": [
    "showPlot2(\"Time It Takes 2 Robots To Clean A Room With Various Shape\", \"Aspect Ratios\", \"Time\")"
   ]
  },
  {
   "cell_type": "code",
   "execution_count": null,
   "metadata": {
    "collapsed": true
   },
   "outputs": [],
   "source": []
  }
 ],
 "metadata": {
  "anaconda-cloud": {},
  "kernelspec": {
   "display_name": "Python [default]",
   "language": "python",
   "name": "python3"
  },
  "language_info": {
   "codemirror_mode": {
    "name": "ipython",
    "version": 3
   },
   "file_extension": ".py",
   "mimetype": "text/x-python",
   "name": "python",
   "nbconvert_exporter": "python",
   "pygments_lexer": "ipython3",
   "version": "3.5.2"
  }
 },
 "nbformat": 4,
 "nbformat_minor": 2
}
